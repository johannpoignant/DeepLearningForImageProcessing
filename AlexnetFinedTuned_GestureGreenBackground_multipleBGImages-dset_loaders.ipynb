{
 "cells": [
  {
   "cell_type": "code",
   "execution_count": 1,
   "metadata": {
    "collapsed": false,
    "deletable": true,
    "editable": true
   },
   "outputs": [],
   "source": [
    "import torch\n",
    "import torch.nn as nn\n",
    "import torch.backends.cudnn as cudnn\n",
    "\n",
    "cudnn.benchmark = True #-- uses the inbuilt cudnn auto-tuner to find the fastest convolution algorithms.\n",
    "                       #-- If this is set to false, uses some in-built heuristics that might not always be fastest.\n",
    "\n",
    "cudnn.fastest = True #-- this is like the :fastest() mode for the Convolution modules,\n",
    "                     #-- simply picks the fastest convolution algorithm, rather than tuning for workspace size\n",
    "\n",
    "from torch.autograd import Variable\n",
    "import torchvision.models as models\n",
    "import torchvision.transforms as transforms\n",
    "from PIL import Image\n",
    "import torch.optim as optim\n",
    "\n",
    "import random, os, glob\n",
    "os.environ['CUDA_VISIBLE_DEVICES'] = '1'\n",
    "\n",
    "from models.alexnet import *\n",
    "from utils import *"
   ]
  },
  {
   "cell_type": "code",
   "execution_count": 2,
   "metadata": {
    "collapsed": true
   },
   "outputs": [],
   "source": [
    "import torchvision\n",
    "from torchvision import datasets, models, transforms"
   ]
  },
  {
   "cell_type": "code",
   "execution_count": 4,
   "metadata": {
    "collapsed": false,
    "deletable": true,
    "editable": true
   },
   "outputs": [],
   "source": [
    "imSize = 225\n",
    "batchSize = 128\n",
    "nb_epoch = 50"
   ]
  },
  {
   "cell_type": "code",
   "execution_count": 5,
   "metadata": {
    "collapsed": true
   },
   "outputs": [],
   "source": [
    "data_dir = \"../../data/GestureImages/\""
   ]
  },
  {
   "cell_type": "code",
   "execution_count": 6,
   "metadata": {
    "collapsed": true
   },
   "outputs": [],
   "source": [
    "mean = (0.39257858439139737, 0.35762259154897047, 0.31527230940662754) \n",
    "std = (0.18832936651233589, 0.17874159347517907, 0.17543465933504346)"
   ]
  },
  {
   "cell_type": "code",
   "execution_count": 7,
   "metadata": {
    "collapsed": true
   },
   "outputs": [],
   "source": [
    "data_transforms = {\n",
    "    'train': transforms.Compose([\n",
    "        transforms.RandomSizedCrop(224),\n",
    "        transforms.RandomHorizontalFlip(),\n",
    "        transforms.ToTensor(),\n",
    "        transforms.Normalize(mean, std)\n",
    "    ]),\n",
    "    'val': transforms.Compose([\n",
    "        transforms.Scale(256),\n",
    "        transforms.CenterCrop(224),\n",
    "        transforms.ToTensor(),\n",
    "        transforms.Normalize(mean, std)\n",
    "    ]),\n",
    "}"
   ]
  },
  {
   "cell_type": "code",
   "execution_count": 8,
   "metadata": {
    "collapsed": false
   },
   "outputs": [],
   "source": [
    "dsets = {x: datasets.ImageFolder(os.path.join(data_dir, x), data_transforms[x])for x in ['train', 'val']}\n",
    "\n",
    "dset_loaders = {x: torch.utils.data.DataLoader(dsets[x], batch_size=batchSize, shuffle=True, num_workers=4) for x in ['train', 'val']}"
   ]
  },
  {
   "cell_type": "code",
   "execution_count": 9,
   "metadata": {
    "collapsed": true
   },
   "outputs": [],
   "source": [
    "dset_sizes = {x: len(dsets[x]) for x in ['train', 'val']}\n",
    "dset_classes = dsets['train'].classes"
   ]
  },
  {
   "cell_type": "code",
   "execution_count": 10,
   "metadata": {
    "collapsed": false
   },
   "outputs": [],
   "source": [
    "# Get a batch of training data\n",
    "inputs, classes = next(iter(dset_loaders['train']))\n",
    "\n",
    "# Make a grid from batch\n",
    "out = torchvision.utils.make_grid(inputs)"
   ]
  },
  {
   "cell_type": "code",
   "execution_count": 11,
   "metadata": {
    "collapsed": true,
    "deletable": true,
    "editable": true
   },
   "outputs": [],
   "source": [
    "# define the criterion\n",
    "criterion = nn.CrossEntropyLoss()"
   ]
  },
  {
   "cell_type": "code",
   "execution_count": 20,
   "metadata": {
    "collapsed": false,
    "deletable": true,
    "editable": true
   },
   "outputs": [
    {
     "name": "stdout",
     "output_type": "stream",
     "text": [
      "copy Conv2d(3, 64, kernel_size=(11, 11), stride=(4, 4), padding=(2, 2))\n",
      "copy Conv2d(64, 192, kernel_size=(5, 5), stride=(1, 1), padding=(2, 2))\n",
      "copy Conv2d(192, 384, kernel_size=(3, 3), stride=(1, 1), padding=(1, 1))\n",
      "copy Conv2d(384, 256, kernel_size=(3, 3), stride=(1, 1), padding=(1, 1))\n",
      "copy Conv2d(256, 256, kernel_size=(3, 3), stride=(1, 1), padding=(1, 1))\n"
     ]
    }
   ],
   "source": [
    "# defined a new net with the number of classes corresponding to the dataset\n",
    "alexTunedClassifier = alexnet(len(dset_classes)).train()\n",
    "# load the pre-trained model and copy only the Features \n",
    "copyFeaturesParametersAlexnet(alexTunedClassifier, models.alexnet(pretrained=True))\n",
    "alexTunedClassifier = alexTunedClassifier.cuda()"
   ]
  },
  {
   "cell_type": "code",
   "execution_count": 15,
   "metadata": {
    "collapsed": true
   },
   "outputs": [],
   "source": [
    "def train_model(model, criterion, optimizer):\n",
    "    model.train()\n",
    "    for data in dset_loaders['train']:\n",
    "        inputs, labels = data\n",
    "        inputs, labels = Variable(inputs.cuda()), Variable(labels.cuda())   \n",
    "        optimizer.zero_grad()\n",
    "        outputs = model(inputs)[1]\n",
    "        _, preds = torch.max(outputs.data, 1)\n",
    "        loss = criterion(outputs, labels)\n",
    "        loss.backward()\n",
    "        optimizer.step()\n",
    "    return model        "
   ]
  },
  {
   "cell_type": "code",
   "execution_count": 19,
   "metadata": {
    "collapsed": false
   },
   "outputs": [
    {
     "name": "stdout",
     "output_type": "stream",
     "text": [
      "\n"
     ]
    }
   ],
   "source": [
    "def test_model(model):\n",
    "    model.eval()\n",
    "    corrects, total = 0.0, 0.0\n",
    "    for i,data in enumerate(dset_loaders['val']):\n",
    "        inputs, labels = data\n",
    "        inputs, labels = Variable(inputs.cuda()), Variable(labels.cuda())\n",
    "        outputs = model(inputs)[1]\n",
    "        _, predicted = torch.max(outputs.data, 1)\n",
    "        total += labels.size(0)\n",
    "        corrects += torch.sum(predicted == labels.data)        \n",
    "    print \"test : #Correct\", corrects,\" on\",total,\"(\"+str(round(corrects/total*100, 1))+\"%)\""
   ]
  },
  {
   "cell_type": "code",
   "execution_count": 21,
   "metadata": {
    "collapsed": false
   },
   "outputs": [
    {
     "name": "stdout",
     "output_type": "stream",
     "text": [
      "epoch 0 test : #Correct 1660.0 on 3998.0 (41.5%)\n",
      "epoch 1 test : #Correct 1910.0 on 3998.0 (47.8%)\n",
      "epoch 2 test : #Correct 1817.0 on 3998.0 (45.4%)\n",
      "epoch 3 test : #Correct 1760.0 on 3998.0 (44.0%)\n",
      "epoch 4 test : #Correct 1832.0 on 3998.0 (45.8%)\n",
      "epoch 5 test : #Correct 1935.0 on 3998.0 (48.4%)\n",
      "epoch 6 test : #Correct 1892.0 on 3998.0 (47.3%)\n",
      "epoch 7 test : #Correct 1934.0 on 3998.0 (48.4%)\n",
      "epoch 8 test : #Correct 1928.0 on 3998.0 (48.2%)\n",
      "epoch 9 test : #Correct 1893.0 on 3998.0 (47.3%)\n",
      "epoch 10 test : #Correct 1811.0 on 3998.0 (45.3%)\n",
      "epoch 11 test : #Correct 1892.0 on 3998.0 (47.3%)\n",
      "epoch 12 test : #Correct 1935.0 on 3998.0 (48.4%)\n",
      "epoch 13 test : #Correct 1947.0 on 3998.0 (48.7%)\n",
      "epoch 14 test : #Correct 1891.0 on 3998.0 (47.3%)\n",
      "epoch 15 test : #Correct 1854.0 on 3998.0 (46.4%)\n",
      "epoch 16 test : #Correct 1823.0 on 3998.0 (45.6%)\n",
      "epoch 17 test : #Correct 1887.0 on 3998.0 (47.2%)\n",
      "epoch 18 test : #Correct 1873.0 on 3998.0 (46.8%)\n",
      "epoch 19 test : #Correct 1810.0 on 3998.0 (45.3%)\n"
     ]
    }
   ],
   "source": [
    "optimizer=optim.SGD([{'params': alexTunedClassifier.classifier.parameters()},\n",
    "                     {'params': alexTunedClassifier.features.parameters(), 'lr': 0.0}\n",
    "                    ], lr=0.01, momentum=0.9)\n",
    "for epoch in range(20):\n",
    "    print \"epoch\", epoch,\n",
    "    model = train_model(alexTunedClassifier, criterion, optimizer)\n",
    "    test_model(alexTunedClassifier)"
   ]
  },
  {
   "cell_type": "code",
   "execution_count": 22,
   "metadata": {
    "collapsed": true
   },
   "outputs": [],
   "source": [
    "# save the net\n",
    "torch.save(alexTunedClassifier, \"ckpt/gesture_multiBGImages_alexFineTuned-50epoch-lr-0.01.ckpt\")"
   ]
  },
  {
   "cell_type": "code",
   "execution_count": 23,
   "metadata": {
    "collapsed": false
   },
   "outputs": [
    {
     "name": "stdout",
     "output_type": "stream",
     "text": [
      "epoch 0 test : #Correct 1844.0 on 3998.0 (46.1%)\n",
      "epoch 1 test : #Correct 1861.0 on 3998.0 (46.5%)\n",
      "epoch 2 test : #Correct 1879.0 on 3998.0 (47.0%)\n",
      "epoch 3 test : #Correct 1836.0 on 3998.0 (45.9%)\n",
      "epoch 4 test : #Correct 1884.0 on 3998.0 (47.1%)\n",
      "epoch 5 test : #Correct 1879.0 on 3998.0 (47.0%)\n",
      "epoch 6 test : #Correct 1871.0 on 3998.0 (46.8%)\n",
      "epoch 7 test : #Correct 1865.0 on 3998.0 (46.6%)\n",
      "epoch 8 test : #Correct 1877.0 on 3998.0 (46.9%)\n",
      "epoch 9 test : #Correct 1882.0 on 3998.0 (47.1%)\n",
      "epoch 10 test : #Correct 1887.0 on 3998.0 (47.2%)\n",
      "epoch 11 test : #Correct 1894.0 on 3998.0 (47.4%)\n",
      "epoch 12 test : #Correct 1867.0 on 3998.0 (46.7%)\n",
      "epoch 13 test : #Correct 1869.0 on 3998.0 (46.7%)\n",
      "epoch 14 test : #Correct 1878.0 on 3998.0 (47.0%)\n",
      "epoch 15 test : #Correct 1877.0 on 3998.0 (46.9%)\n",
      "epoch 16 test : #Correct 1882.0 on 3998.0 (47.1%)\n",
      "epoch 17 test : #Correct 1869.0 on 3998.0 (46.7%)\n",
      "epoch 18 test : #Correct 1883.0 on 3998.0 (47.1%)\n",
      "epoch 19 test : #Correct 1860.0 on 3998.0 (46.5%)\n"
     ]
    }
   ],
   "source": [
    "optimizer=optim.SGD([{'params': alexTunedClassifier.classifier.parameters()},\n",
    "                     {'params': alexTunedClassifier.features.parameters(), 'lr': 0.0}\n",
    "                    ], lr=0.001, momentum=0.9)\n",
    "for epoch in range(20):\n",
    "    print \"epoch\", epoch,\n",
    "    model = train_model(alexTunedClassifier, criterion, optimizer)\n",
    "    test_model(alexTunedClassifier)"
   ]
  },
  {
   "cell_type": "code",
   "execution_count": 24,
   "metadata": {
    "collapsed": true,
    "deletable": true,
    "editable": true
   },
   "outputs": [],
   "source": [
    "# save the net\n",
    "torch.save(alexTunedClassifier, \"ckpt/gesture_multiBGImages_alexFineTuned-50epoch-lr-0.01-50epoch-lr-0.001.ckpt\")"
   ]
  },
  {
   "cell_type": "code",
   "execution_count": 25,
   "metadata": {
    "collapsed": false,
    "deletable": true,
    "editable": true
   },
   "outputs": [
    {
     "name": "stdout",
     "output_type": "stream",
     "text": [
      "epoch 0 test : #Correct 2148.0 on 3998.0 (53.7%)\n",
      "epoch 1 test : #Correct 2271.0 on 3998.0 (56.8%)\n",
      "epoch 2 test : #Correct 2330.0 on 3998.0 (58.3%)\n",
      "epoch 3 test : #Correct 2438.0 on 3998.0 (61.0%)\n",
      "epoch 4 test : #Correct 2505.0 on 3998.0 (62.7%)\n",
      "epoch 5 test : #Correct 2527.0 on 3998.0 (63.2%)\n",
      "epoch 6 test : #Correct 2407.0 on 3998.0 (60.2%)\n",
      "epoch 7 test : #Correct 2612.0 on 3998.0 (65.3%)\n",
      "epoch 8 test : #Correct 2565.0 on 3998.0 (64.2%)\n",
      "epoch 9 test : #Correct 2556.0 on 3998.0 (63.9%)\n",
      "epoch 10 test : #Correct 2531.0 on 3998.0 (63.3%)\n",
      "epoch 11 test : #Correct 2727.0 on 3998.0 (68.2%)\n",
      "epoch 12 test : #Correct 2788.0 on 3998.0 (69.7%)\n",
      "epoch 13 test : #Correct 2700.0 on 3998.0 (67.5%)\n",
      "epoch 14 test : #Correct 2861.0 on 3998.0 (71.6%)\n",
      "epoch 15 test : #Correct 2735.0 on 3998.0 (68.4%)\n",
      "epoch 16 test : #Correct 2745.0 on 3998.0 (68.7%)\n",
      "epoch 17 test : #Correct 2748.0 on 3998.0 (68.7%)\n",
      "epoch 18 test : #Correct 2733.0 on 3998.0 (68.4%)\n",
      "epoch 19 test : #Correct 2798.0 on 3998.0 (70.0%)\n"
     ]
    }
   ],
   "source": [
    "# load the model and define the optimizer to train net with lr of 0.01\n",
    "#alexTunedClassifier = torch.load(\"ckpt/gesture_1classdivers_alexFineTuned-50epoch-lr-0.01-50epoch-lr-0.001.ckpt\")\n",
    "#alexTunedClassifier = alexTunedClassifier.cuda()\n",
    "\n",
    "optimizer=optim.SGD(alexTunedClassifier.parameters(), lr=0.001, momentum=0.9)\n",
    "for epoch in range(20):\n",
    "    print \"epoch\", epoch,\n",
    "    model = train_model(alexTunedClassifier, criterion, optimizer)\n",
    "    test_model(alexTunedClassifier)"
   ]
  },
  {
   "cell_type": "code",
   "execution_count": 26,
   "metadata": {
    "collapsed": true,
    "deletable": true,
    "editable": true
   },
   "outputs": [],
   "source": [
    "# save the net\n",
    "torch.save(alexTunedClassifier, \"ckpt/gesture_multiBGImages_alexFineTuned-50epoch-lr-0.01-50epoch-lr-0.001-50epoch-lr-0.001.ckpt\")"
   ]
  },
  {
   "cell_type": "code",
   "execution_count": 27,
   "metadata": {
    "collapsed": false,
    "deletable": true,
    "editable": true
   },
   "outputs": [
    {
     "name": "stdout",
     "output_type": "stream",
     "text": [
      "epoch 0 test : #Correct 2827.0 on 3998.0 (70.7%)\n",
      "epoch 1 test : #Correct 2840.0 on 3998.0 (71.0%)\n",
      "epoch 2 test : #Correct 2842.0 on 3998.0 (71.1%)\n",
      "epoch 3 test : #Correct 2843.0 on 3998.0 (71.1%)\n",
      "epoch 4 test : #Correct 2825.0 on 3998.0 (70.7%)\n",
      "epoch 5 test : #Correct 2834.0 on 3998.0 (70.9%)\n",
      "epoch 6 test : #Correct 2863.0 on 3998.0 (71.6%)\n",
      "epoch 7 test : #Correct 2844.0 on 3998.0 (71.1%)\n",
      "epoch 8 test : #Correct 2830.0 on 3998.0 (70.8%)\n",
      "epoch 9 test : #Correct 2847.0 on 3998.0 (71.2%)\n",
      "epoch 10 test : #Correct 2843.0 on 3998.0 (71.1%)\n",
      "epoch 11 test : #Correct 2862.0 on 3998.0 (71.6%)\n",
      "epoch 12 test : #Correct 2841.0 on 3998.0 (71.1%)\n",
      "epoch 13 test : #Correct 2845.0 on 3998.0 (71.2%)\n",
      "epoch 14 test : #Correct 2861.0 on 3998.0 (71.6%)\n",
      "epoch 15 test : #Correct 2852.0 on 3998.0 (71.3%)\n",
      "epoch 16 test : #Correct 2820.0 on 3998.0 (70.5%)\n",
      "epoch 17 test : #Correct 2862.0 on 3998.0 (71.6%)\n",
      "epoch 18 test : #Correct 2858.0 on 3998.0 (71.5%)\n",
      "epoch 19 test : #Correct 2859.0 on 3998.0 (71.5%)\n"
     ]
    }
   ],
   "source": [
    "# load the model and define the optimizer to train net with lr of 0.001\n",
    "optimizer=optim.SGD(alexTunedClassifier.parameters(), lr=0.0001, momentum=0.9)\n",
    "for epoch in range(20):\n",
    "    print \"epoch\", epoch,\n",
    "    model = train_model(alexTunedClassifier, criterion, optimizer)\n",
    "    test_model(alexTunedClassifier)"
   ]
  },
  {
   "cell_type": "code",
   "execution_count": 28,
   "metadata": {
    "collapsed": true,
    "deletable": true,
    "editable": true
   },
   "outputs": [],
   "source": [
    "# save the net\n",
    "torch.save(alexTunedClassifier, \"ckpt/gesture_multiBGImages_alexFineTuned-50epoch-lr-0.01-50epoch-lr-0.001-50epoch-lr-0.001-50epoch-lr-0.0001.ckpt\")"
   ]
  },
  {
   "cell_type": "code",
   "execution_count": null,
   "metadata": {
    "collapsed": true,
    "deletable": true,
    "editable": true
   },
   "outputs": [],
   "source": []
  },
  {
   "cell_type": "code",
   "execution_count": null,
   "metadata": {
    "collapsed": true
   },
   "outputs": [],
   "source": []
  },
  {
   "cell_type": "code",
   "execution_count": null,
   "metadata": {
    "collapsed": true
   },
   "outputs": [],
   "source": []
  },
  {
   "cell_type": "code",
   "execution_count": null,
   "metadata": {
    "collapsed": true,
    "deletable": true,
    "editable": true
   },
   "outputs": [],
   "source": []
  }
 ],
 "metadata": {
  "kernelspec": {
   "display_name": "Python 2",
   "language": "python",
   "name": "python2"
  },
  "language_info": {
   "codemirror_mode": {
    "name": "ipython",
    "version": 2
   },
   "file_extension": ".py",
   "mimetype": "text/x-python",
   "name": "python",
   "nbconvert_exporter": "python",
   "pygments_lexer": "ipython2",
   "version": "2.7.9"
  }
 },
 "nbformat": 4,
 "nbformat_minor": 2
}
